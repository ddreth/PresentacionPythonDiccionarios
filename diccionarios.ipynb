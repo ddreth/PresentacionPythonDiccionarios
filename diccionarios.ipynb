{
 "metadata": {
  "language_info": {
   "codemirror_mode": {
    "name": "ipython",
    "version": 3
   },
   "file_extension": ".py",
   "mimetype": "text/x-python",
   "name": "python",
   "nbconvert_exporter": "python",
   "pygments_lexer": "ipython3",
   "version": 3
  },
  "orig_nbformat": 2,
  "kernelspec": {
   "name": "python_defaultSpec_1595767338403",
   "display_name": "Python 3.7.6 64-bit ('base': conda)"
  }
 },
 "nbformat": 4,
 "nbformat_minor": 2,
 "cells": [
  {
   "cell_type": "markdown",
   "metadata": {},
   "source": [
    "# Diccionarios"
   ]
  },
  {
   "cell_type": "markdown",
   "metadata": {},
   "source": [
    "## Conceptos básicos"
   ]
  },
  {
   "cell_type": "code",
   "execution_count": 1,
   "metadata": {},
   "outputs": [],
   "source": [
    "# definir un diccionario básico\n",
    "d = {\n",
    "    'key1':1\n",
    "    ,'key2':2\n",
    "    ,'key3':3\n",
    "}"
   ]
  },
  {
   "cell_type": "code",
   "execution_count": 2,
   "metadata": {},
   "outputs": [
    {
     "output_type": "execute_result",
     "data": {
      "text/plain": "1"
     },
     "metadata": {},
     "execution_count": 2
    }
   ],
   "source": [
    "# accesar los values\n",
    "d['key1']"
   ]
  },
  {
   "cell_type": "code",
   "execution_count": 3,
   "metadata": {
    "tags": []
   },
   "outputs": [
    {
     "output_type": "stream",
     "name": "stdout",
     "text": "1\n"
    }
   ],
   "source": [
    "# accesar los values usando get\n",
    "print(d.get('key1'))"
   ]
  },
  {
   "cell_type": "code",
   "execution_count": 4,
   "metadata": {},
   "outputs": [
    {
     "output_type": "error",
     "ename": "KeyError",
     "evalue": "'key4'",
     "traceback": [
      "\u001b[0;31m---------------------------------------------------------------------------\u001b[0m",
      "\u001b[0;31mKeyError\u001b[0m                                  Traceback (most recent call last)",
      "\u001b[0;32m<ipython-input-4-366bf77c026b>\u001b[0m in \u001b[0;36m<module>\u001b[0;34m\u001b[0m\n\u001b[1;32m      1\u001b[0m \u001b[0;31m# get() vs accesar normalmente\u001b[0m\u001b[0;34m\u001b[0m\u001b[0;34m\u001b[0m\u001b[0;34m\u001b[0m\u001b[0m\n\u001b[1;32m      2\u001b[0m \u001b[0;31m# si intentamos accesar normalmente a un key que no existe obtenemos error\u001b[0m\u001b[0;34m\u001b[0m\u001b[0;34m\u001b[0m\u001b[0;34m\u001b[0m\u001b[0m\n\u001b[0;32m----> 3\u001b[0;31m \u001b[0md\u001b[0m\u001b[0;34m[\u001b[0m\u001b[0;34m'key4'\u001b[0m\u001b[0;34m]\u001b[0m\u001b[0;34m\u001b[0m\u001b[0;34m\u001b[0m\u001b[0m\n\u001b[0m",
      "\u001b[0;31mKeyError\u001b[0m: 'key4'"
     ]
    }
   ],
   "source": [
    "# get() vs accesar normalmente\n",
    "# si intentamos accesar normalmente a un key que no existe obtenemos error\n",
    "d['key4']"
   ]
  },
  {
   "cell_type": "code",
   "execution_count": 5,
   "metadata": {
    "tags": []
   },
   "outputs": [
    {
     "output_type": "stream",
     "name": "stdout",
     "text": "None\n"
    }
   ],
   "source": [
    "# mientras que si accesamos un key que no existe, obtenemos un NoneType como resultado\n",
    "print(d.get('key4'))"
   ]
  },
  {
   "cell_type": "code",
   "execution_count": 6,
   "metadata": {
    "tags": []
   },
   "outputs": [
    {
     "output_type": "execute_result",
     "data": {
      "text/plain": "{'key1': 1, 'key2': 3, 'key3': 3}"
     },
     "metadata": {},
     "execution_count": 6
    }
   ],
   "source": [
    "# modificar los values\n",
    "d['key2'] = 3\n",
    "d"
   ]
  },
  {
   "cell_type": "code",
   "execution_count": 7,
   "metadata": {
    "tags": []
   },
   "outputs": [
    {
     "output_type": "stream",
     "name": "stdout",
     "text": "no se puede\n"
    }
   ],
   "source": [
    "# modificar los keys\n",
    "print('no se puede')"
   ]
  },
  {
   "cell_type": "markdown",
   "metadata": {},
   "source": [
    "## Métodos de diccionarios"
   ]
  },
  {
   "cell_type": "markdown",
   "metadata": {},
   "source": [
    "### iterables"
   ]
  },
  {
   "cell_type": "code",
   "execution_count": 8,
   "metadata": {
    "tags": []
   },
   "outputs": [
    {
     "output_type": "stream",
     "name": "stdout",
     "text": "key1\nkey2\nkey3\n"
    }
   ],
   "source": [
    "# iterar sobre los keys de un diccionario\n",
    "for key in d.keys():\n",
    "    print(key)"
   ]
  },
  {
   "cell_type": "code",
   "execution_count": 9,
   "metadata": {
    "tags": []
   },
   "outputs": [
    {
     "output_type": "stream",
     "name": "stdout",
     "text": "1\n3\n3\n"
    }
   ],
   "source": [
    "# iterar sobre los values de un diccionario\n",
    "for value in d.values():\n",
    "    print(value)"
   ]
  },
  {
   "cell_type": "code",
   "execution_count": 10,
   "metadata": {
    "tags": []
   },
   "outputs": [
    {
     "output_type": "stream",
     "name": "stdout",
     "text": "key1 - 1\nkey2 - 3\nkey3 - 3\n"
    }
   ],
   "source": [
    "# iterar sobre los elementos de un diccionario\n",
    "for key, value in d.items():\n",
    "    print(f'{key} - {value}')"
   ]
  },
  {
   "cell_type": "markdown",
   "metadata": {},
   "source": [
    "### Modificando el objeto"
   ]
  },
  {
   "cell_type": "code",
   "execution_count": 11,
   "metadata": {
    "tags": []
   },
   "outputs": [
    {
     "output_type": "execute_result",
     "data": {
      "text/plain": "{'key1': 1, 'key2': 3}"
     },
     "metadata": {},
     "execution_count": 11
    }
   ],
   "source": [
    "# eliminar key:val pairs de un diccionario utilizando pop\n",
    "d.pop('key3')\n",
    "d"
   ]
  },
  {
   "cell_type": "code",
   "execution_count": 12,
   "metadata": {
    "tags": []
   },
   "outputs": [
    {
     "output_type": "execute_result",
     "data": {
      "text/plain": "{}"
     },
     "metadata": {},
     "execution_count": 12
    }
   ],
   "source": [
    "# limpiar todos los keys de un diccionario\n",
    "d2 = {'a':1,'b':2,'c':3}\n",
    "d2.clear()\n",
    "d2"
   ]
  },
  {
   "cell_type": "code",
   "execution_count": 13,
   "metadata": {
    "tags": []
   },
   "outputs": [
    {
     "output_type": "stream",
     "name": "stdout",
     "text": "d2 antes de agregar keys de d3: \n{}\nd2 despues de aplicar update con los key:val de d3: \n{'v1': 1, 'v2': 2, 'v3': 3, 'a': 8}\n"
    }
   ],
   "source": [
    "# actualizando el diccionario y uniéndolo con otro\n",
    "d3 = {'v1':1, 'v2':2, 'v3':3, 'a':8}\n",
    "print(f'd2 antes de agregar keys de d3: \\n{d2}')\n",
    "d2.update(d3)\n",
    "print(f'd2 despues de aplicar update con los key:val de d3: \\n{d2}')"
   ]
  },
  {
   "cell_type": "markdown",
   "metadata": {},
   "source": [
    "### Creando un nuevo diccionario a partir de otro diccionario u otras variables"
   ]
  },
  {
   "cell_type": "code",
   "execution_count": 14,
   "metadata": {
    "tags": []
   },
   "outputs": [
    {
     "output_type": "stream",
     "name": "stdout",
     "text": "d2 --> {'a': 1, 'b': 2, 'c': 3}\nd3 antes de copiar --> {}\nd3 despues de copiar --> {'a': 1, 'b': 2, 'c': 3}\n"
    }
   ],
   "source": [
    "# copiando un diccionario sin usar la libreria copy\n",
    "d2 = {'a':1,'b':2,'c':3}\n",
    "d3 = {}\n",
    "print(f'd2 --> {d2}')\n",
    "print(f'd3 antes de copiar --> {d3}')\n",
    "d3 = d2.copy()\n",
    "print(f'd3 despues de copiar --> {d3}')"
   ]
  },
  {
   "cell_type": "code",
   "execution_count": 15,
   "metadata": {
    "tags": []
   },
   "outputs": [
    {
     "output_type": "execute_result",
     "data": {
      "text/plain": "{'key0': None, 'key1': None, 'key2': None, 'key3': None, 'key4': None}"
     },
     "metadata": {},
     "execution_count": 15
    }
   ],
   "source": [
    "# creando un diccionario desde un iterable para asignarle los keys\n",
    "keys = [f'key{x}' for x in range(5)]\n",
    "d4 = {}.fromkeys(keys)\n",
    "# genera el diccionario con todos los values como NoneType\n",
    "d4"
   ]
  },
  {
   "cell_type": "markdown",
   "metadata": {},
   "source": [
    "### el keyword del en python y su efecto en diccionarios"
   ]
  },
  {
   "cell_type": "code",
   "execution_count": 16,
   "metadata": {
    "tags": []
   },
   "outputs": [
    {
     "output_type": "execute_result",
     "data": {
      "text/plain": "{'key1': 1}"
     },
     "metadata": {},
     "execution_count": 16
    }
   ],
   "source": [
    "# eliminar key:val pairs de un diccionario utilizando del\n",
    "del d['key2']\n",
    "d"
   ]
  },
  {
   "cell_type": "code",
   "execution_count": 17,
   "metadata": {},
   "outputs": [
    {
     "output_type": "error",
     "ename": "NameError",
     "evalue": "name 'd' is not defined",
     "traceback": [
      "\u001b[0;31m---------------------------------------------------------------------------\u001b[0m",
      "\u001b[0;31mNameError\u001b[0m                                 Traceback (most recent call last)",
      "\u001b[0;32m<ipython-input-17-d636b622bf0d>\u001b[0m in \u001b[0;36m<module>\u001b[0;34m\u001b[0m\n\u001b[1;32m      1\u001b[0m \u001b[0;31m# Cuidado con del, porque del elimina cualquier variable en la consola de python\u001b[0m\u001b[0;34m\u001b[0m\u001b[0;34m\u001b[0m\u001b[0;34m\u001b[0m\u001b[0m\n\u001b[1;32m      2\u001b[0m \u001b[0;32mdel\u001b[0m \u001b[0md\u001b[0m\u001b[0;34m\u001b[0m\u001b[0;34m\u001b[0m\u001b[0m\n\u001b[0;32m----> 3\u001b[0;31m \u001b[0md\u001b[0m\u001b[0;34m\u001b[0m\u001b[0;34m\u001b[0m\u001b[0m\n\u001b[0m",
      "\u001b[0;31mNameError\u001b[0m: name 'd' is not defined"
     ]
    }
   ],
   "source": [
    "# Cuidado con del, porque del elimina cualquier variable en la consola de python\n",
    "del d\n",
    "d"
   ]
  },
  {
   "cell_type": "markdown",
   "metadata": {},
   "source": [
    "## Dictionary comprehension"
   ]
  },
  {
   "cell_type": "code",
   "execution_count": 18,
   "metadata": {
    "tags": []
   },
   "outputs": [
    {
     "output_type": "execute_result",
     "data": {
      "text/plain": "{'a': 0, 'b': 1, 'c': 2}"
     },
     "metadata": {},
     "execution_count": 18
    }
   ],
   "source": [
    "# crear diccionarios utilizando dictionary comprehension\n",
    "keys = ['a','b','c']\n",
    "values = [x for x in range(3)]\n",
    "\n",
    "# creando el dict\n",
    "d = {key:value for key,value in zip(keys, values)}\n",
    "d"
   ]
  },
  {
   "cell_type": "markdown",
   "metadata": {},
   "source": [
    "## Nested dictionaries"
   ]
  },
  {
   "cell_type": "code",
   "execution_count": 19,
   "metadata": {
    "tags": []
   },
   "outputs": [
    {
     "output_type": "execute_result",
     "data": {
      "text/plain": "{'a': {'a1': 4, 'b1': 5, 'b2': 6},\n 'b': {'a1': 4, 'b1': 5, 'b2': 6},\n 'c': {'a1': 4, 'b1': 5, 'b2': 6}}"
     },
     "metadata": {},
     "execution_count": 19
    }
   ],
   "source": [
    "# nested dictionaries\n",
    "keys = ['a1','b1','b2'] \n",
    "values = [x for x in range(4,7)]\n",
    "for key in d.keys():\n",
    "    d[key] = {key2:value2 for key2,value2 in zip(keys, values)}\n",
    "\n",
    "d"
   ]
  },
  {
   "cell_type": "code",
   "execution_count": 20,
   "metadata": {},
   "outputs": [
    {
     "output_type": "execute_result",
     "data": {
      "text/plain": "5"
     },
     "metadata": {},
     "execution_count": 20
    }
   ],
   "source": [
    "# accesar nested dicts\n",
    "d['a']['b1']"
   ]
  },
  {
   "cell_type": "code",
   "execution_count": 21,
   "metadata": {},
   "outputs": [],
   "source": [
    "# iterar sobre nested dicts\n",
    "# ejemplo\n",
    "nested_dict = {\n",
    "    'primer_nivel_0':{\n",
    "        'segundo_nivel_0':{\n",
    "            'tercer_nivel_0':0,\n",
    "            'tercer_nivel_1':1,\n",
    "            'tercer_nivel_2':2,\n",
    "        },\n",
    "        'segundo_nivel_1':{\n",
    "            'tercer_nivel_0':0,\n",
    "            'tercer_nivel_1':1,\n",
    "            'tercer_nivel_2':2,\n",
    "        },\n",
    "        'segundo_nivel_2':{\n",
    "            'tercer_nivel_0':0,\n",
    "            'tercer_nivel_1':1,\n",
    "            'tercer_nivel_2':2,\n",
    "        }\n",
    "    }\n",
    "}"
   ]
  },
  {
   "cell_type": "code",
   "execution_count": 22,
   "metadata": {
    "tags": []
   },
   "outputs": [
    {
     "output_type": "stream",
     "name": "stdout",
     "text": "> primer_nivel_0\n>>>>>> segundo_nivel_0\n>>>>>>>>>>> tercer_nivel_0\n>>>>>>>>>>> tercer_nivel_1\n>>>>>>>>>>> tercer_nivel_2\n>>>>>> segundo_nivel_1\n>>>>>>>>>>> tercer_nivel_0\n>>>>>>>>>>> tercer_nivel_1\n>>>>>>>>>>> tercer_nivel_2\n>>>>>> segundo_nivel_2\n>>>>>>>>>>> tercer_nivel_0\n>>>>>>>>>>> tercer_nivel_1\n>>>>>>>>>>> tercer_nivel_2\n"
    }
   ],
   "source": [
    "for lvl1 in nested_dict.keys():\n",
    "    print(f'> {lvl1}')\n",
    "    for lvl2 in nested_dict[lvl1].keys():\n",
    "        print(f'>>>>>> {lvl2}')\n",
    "        for lvl3 in nested_dict[lvl1][lvl2].keys():\n",
    "            print(f'>>>>>>>>>>> {lvl3}')"
   ]
  },
  {
   "cell_type": "markdown",
   "metadata": {},
   "source": [
    "### breve referencia a pandas"
   ]
  },
  {
   "cell_type": "markdown",
   "metadata": {},
   "source": [
    "#### En pandas, la estructura de datos de DataFrame es (de una manera básica) de la siguiente forma:"
   ]
  },
  {
   "cell_type": "code",
   "execution_count": 23,
   "metadata": {},
   "outputs": [],
   "source": [
    "basically_a_dataframe = {\n",
    "    'columna1': {\n",
    "        0:'valor0',\n",
    "        1:'valor1',\n",
    "        2:'valor2',\n",
    "        3:'valor3'\n",
    "    },\n",
    "    'columna2': {\n",
    "        0:'valor0',\n",
    "        1:'valor1',\n",
    "        2:'valor2',\n",
    "        3:'valor3'\n",
    "    },\n",
    "    'columna3': {\n",
    "        0:'valor0',\n",
    "        1:'valor1',\n",
    "        2:'valor2',\n",
    "        3:'valor3'\n",
    "    },\n",
    "}"
   ]
  },
  {
   "cell_type": "markdown",
   "metadata": {},
   "source": [
    "#### ¿O sea que un dataframe es un json de dos niveles?"
   ]
  },
  {
   "cell_type": "markdown",
   "metadata": {},
   "source": [
    "### Mas o menos sí, es su propio objeto, pero podemos convertirlo desde diccionario de la siguiente manera"
   ]
  },
  {
   "cell_type": "code",
   "execution_count": 24,
   "metadata": {
    "tags": []
   },
   "outputs": [
    {
     "output_type": "execute_result",
     "data": {
      "text/plain": "  columna1 columna2 columna3\n0   valor0   valor0   valor0\n1   valor1   valor1   valor1\n2   valor2   valor2   valor2\n3   valor3   valor3   valor3",
      "text/html": "<div>\n<style scoped>\n    .dataframe tbody tr th:only-of-type {\n        vertical-align: middle;\n    }\n\n    .dataframe tbody tr th {\n        vertical-align: top;\n    }\n\n    .dataframe thead th {\n        text-align: right;\n    }\n</style>\n<table border=\"1\" class=\"dataframe\">\n  <thead>\n    <tr style=\"text-align: right;\">\n      <th></th>\n      <th>columna1</th>\n      <th>columna2</th>\n      <th>columna3</th>\n    </tr>\n  </thead>\n  <tbody>\n    <tr>\n      <th>0</th>\n      <td>valor0</td>\n      <td>valor0</td>\n      <td>valor0</td>\n    </tr>\n    <tr>\n      <th>1</th>\n      <td>valor1</td>\n      <td>valor1</td>\n      <td>valor1</td>\n    </tr>\n    <tr>\n      <th>2</th>\n      <td>valor2</td>\n      <td>valor2</td>\n      <td>valor2</td>\n    </tr>\n    <tr>\n      <th>3</th>\n      <td>valor3</td>\n      <td>valor3</td>\n      <td>valor3</td>\n    </tr>\n  </tbody>\n</table>\n</div>"
     },
     "metadata": {},
     "execution_count": 24
    }
   ],
   "source": [
    "# De hecho, podemos comprobar que este objeto que creamos se convierte directamente a un dataframe sin muchos adornos\n",
    "import pandas as pd\n",
    "pd.DataFrame(basically_a_dataframe)"
   ]
  },
  {
   "cell_type": "markdown",
   "metadata": {},
   "source": [
    "## Funciones relacionadas"
   ]
  },
  {
   "cell_type": "code",
   "execution_count": 25,
   "metadata": {
    "tags": []
   },
   "outputs": [
    {
     "output_type": "stream",
     "name": "stdout",
     "text": "{'a1': 4, 'b1': 5, 'b2': 6}\n"
    }
   ],
   "source": [
    "# la función \"dict()\"\n",
    "key_val_tuples = ((a,b) for a,b in zip(keys,values))\n",
    "print(dict(key_val_tuples))"
   ]
  },
  {
   "cell_type": "code",
   "execution_count": 26,
   "metadata": {
    "tags": []
   },
   "outputs": [
    {
     "output_type": "stream",
     "name": "stdout",
     "text": "{'a': 1, 'b': 2, 'c': 3}\nlongitud de d2 --> 3\n"
    }
   ],
   "source": [
    "# len() retorna la longitud de un diccionario\n",
    "print(d2)\n",
    "print(f'longitud de d2 --> {len(d2)}')"
   ]
  },
  {
   "cell_type": "markdown",
   "metadata": {},
   "source": [
    "## Usos útiles de diccionarios"
   ]
  },
  {
   "cell_type": "code",
   "execution_count": 27,
   "metadata": {},
   "outputs": [],
   "source": [
    "# generating random data\n",
    "import numpy as np\n",
    "randoms = [np.random.randint(10) for x in range(10)]\n",
    "randoms2 = []\n",
    "while len(randoms2) < len(randoms):\n",
    "    randint = np.random.randint(20)\n",
    "    if randint not in randoms:\n",
    "        randoms2.append(randint)"
   ]
  },
  {
   "cell_type": "code",
   "execution_count": 28,
   "metadata": {
    "tags": []
   },
   "outputs": [
    {
     "output_type": "execute_result",
     "data": {
      "text/plain": "{'param_8_10': [8, 10],\n 'param_7_6': [7, 6],\n 'param_9_0': [9, 0],\n 'param_4_15': [4, 15],\n 'param_4_19': [4, 19],\n 'param_2_10': [2, 10],\n 'param_4_11': [4, 11],\n 'param_4_13': [4, 13],\n 'param_5_19': [5, 19],\n 'param_3_13': [3, 13]}"
     },
     "metadata": {},
     "execution_count": 28
    }
   ],
   "source": [
    "# iterar sobre data para nombrar keys apropiados a los values a utilizar\n",
    "# útiles al almacenar data de modelos, etc\n",
    "# Usando fstrings\n",
    "random_num_dict = {}\n",
    "for r1,r2 in zip(randoms,randoms2):\n",
    "    label = f'param_{r1}_{r2}'\n",
    "    random_num_dict[label] = [r1,r2]\n",
    "random_num_dict"
   ]
  },
  {
   "cell_type": "markdown",
   "metadata": {},
   "source": [
    "## Unpacking"
   ]
  },
  {
   "cell_type": "markdown",
   "metadata": {},
   "source": [
    "### La siguiente convención para una función definida:\n",
    "### funcion(param1, param2, **kwargs)\n",
    "### utiliza unpacking para asignar parámetros a una función"
   ]
  },
  {
   "cell_type": "code",
   "execution_count": 29,
   "metadata": {
    "tags": []
   },
   "outputs": [
    {
     "output_type": "stream",
     "name": "stdout",
     "text": "d2 antes de agregar keys de d3: \n{'a': 1, 'b': 2, 'c': 3}\nd2 despues de aplicar update con los key:val de d3: \n{'a': 8, 'b': 2, 'c': 3, 'v1': 1, 'v2': 2, 'v3': 3}\n"
    }
   ],
   "source": [
    "# Unpacking para unir diccionarios\n",
    "# actualizando el diccionario y uniéndolo con otro\n",
    "d3 = {'v1':1, 'v2':2, 'v3':3, 'a':8}\n",
    "d2 = {'a':1,'b':2,'c':3}\n",
    "print(f'd2 antes de agregar keys de d3: \\n{d2}')\n",
    "d2 = {**d2, **d3}\n",
    "print(f'd2 despues de aplicar update con los key:val de d3: \\n{d2}')"
   ]
  },
  {
   "cell_type": "markdown",
   "metadata": {},
   "source": [
    "##### NOTA: A partir de la próxima versión de python (3.8.5) se utilizará la convención siguiente d2 = {d2} | {d3} a diferencia de d2 = {**d2, **d3} para unir diccionarios, de la misma manera que se hace con conjuntos"
   ]
  },
  {
   "cell_type": "code",
   "execution_count": 30,
   "metadata": {},
   "outputs": [
    {
     "output_type": "error",
     "ename": "NameError",
     "evalue": "name 'sample_function' is not defined",
     "traceback": [
      "\u001b[0;31m---------------------------------------------------------------------------\u001b[0m",
      "\u001b[0;31mNameError\u001b[0m                                 Traceback (most recent call last)",
      "\u001b[0;32m<ipython-input-30-debc0236a531>\u001b[0m in \u001b[0;36m<module>\u001b[0;34m\u001b[0m\n\u001b[1;32m      5\u001b[0m \u001b[0;34m\u001b[0m\u001b[0m\n\u001b[1;32m      6\u001b[0m \u001b[0;31m# probamos\u001b[0m\u001b[0;34m\u001b[0m\u001b[0;34m\u001b[0m\u001b[0;34m\u001b[0m\u001b[0m\n\u001b[0;32m----> 7\u001b[0;31m \u001b[0msample_function\u001b[0m\u001b[0;34m(\u001b[0m\u001b[0;36m1\u001b[0m\u001b[0;34m,\u001b[0m\u001b[0;36m2\u001b[0m\u001b[0;34m,\u001b[0m\u001b[0;36m3\u001b[0m\u001b[0;34m,\u001b[0m\u001b[0;36m4\u001b[0m\u001b[0;34m)\u001b[0m\u001b[0;34m\u001b[0m\u001b[0;34m\u001b[0m\u001b[0m\n\u001b[0m",
      "\u001b[0;31mNameError\u001b[0m: name 'sample_function' is not defined"
     ]
    }
   ],
   "source": [
    "# Unpacking para asignar parámetros a una función de manera dinámica\n",
    "# definimos una función\n",
    "def multiply_4_numbers(num1, num2, num3, num4):\n",
    "    return np.prod([num1,num2,num3,num4])\n",
    "\n",
    "# probamos\n",
    "sample_function(1,2,3,4)"
   ]
  },
  {
   "cell_type": "code",
   "execution_count": 31,
   "metadata": {},
   "outputs": [
    {
     "output_type": "execute_result",
     "data": {
      "text/plain": "24"
     },
     "metadata": {},
     "execution_count": 31
    }
   ],
   "source": [
    "# utilizando unpacking\n",
    "params = {\n",
    "    'num1':1\n",
    "    ,'num2':2\n",
    "    ,'num3':3\n",
    "    ,'num4':4\n",
    "}\n",
    "\n",
    "# probamos\n",
    "multiply_4_numbers(**params)"
   ]
  },
  {
   "cell_type": "code",
   "execution_count": 32,
   "metadata": {},
   "outputs": [
    {
     "output_type": "execute_result",
     "data": {
      "text/plain": "24"
     },
     "metadata": {},
     "execution_count": 32
    }
   ],
   "source": [
    "# esta función se presta para hacer un diccionario aún más rápido y corto usando un dictionary comprehension y luego unpacking\n",
    "params = {f'num{x}':x for x in range(1,5)}\n",
    "\n",
    "# probnamos\n",
    "multiply_4_numbers(**params)"
   ]
  },
  {
   "cell_type": "code",
   "execution_count": 33,
   "metadata": {},
   "outputs": [
    {
     "output_type": "execute_result",
     "data": {
      "text/plain": "24"
     },
     "metadata": {},
     "execution_count": 33
    }
   ],
   "source": [
    "# Y si definimos la función usando unpacking?\n",
    "def multiply_any_amount_of_numbers(**numbers):\n",
    "    return np.prod([x for x in numbers.values()])\n",
    "\n",
    "multiply_any_amount_of_numbers(**{\n",
    "    'num1':1\n",
    "    ,'num2':2\n",
    "    ,'num3':3\n",
    "    ,'num4':4\n",
    "})"
   ]
  },
  {
   "cell_type": "code",
   "execution_count": 34,
   "metadata": {},
   "outputs": [
    {
     "output_type": "execute_result",
     "data": {
      "text/plain": "24"
     },
     "metadata": {},
     "execution_count": 34
    }
   ],
   "source": [
    "# ok no es el mejor ejemplo del mundo, pero ustedes entienden la idea\n",
    "def actually_doing_this_function_right(list_of_numbers):\n",
    "    return np.prod(list_of_numbers)\n",
    "\n",
    "example = [1,2,3,4]\n",
    "actually_doing_this_function_right(example)"
   ]
  },
  {
   "cell_type": "markdown",
   "metadata": {},
   "source": [
    "## Muy chulo, pero dame un ejemplo práctico de qué hacer con todo esto"
   ]
  },
  {
   "cell_type": "code",
   "execution_count": 35,
   "metadata": {},
   "outputs": [],
   "source": [
    "# Mi ejemplo favorito es tener lo que se hace en un loop como subproducto de un proceso como una variable"
   ]
  },
  {
   "cell_type": "code",
   "execution_count": null,
   "metadata": {},
   "outputs": [],
   "source": []
  }
 ]
}