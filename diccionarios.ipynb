{
 "metadata": {
  "language_info": {
   "codemirror_mode": {
    "name": "ipython",
    "version": 3
   },
   "file_extension": ".py",
   "mimetype": "text/x-python",
   "name": "python",
   "nbconvert_exporter": "python",
   "pygments_lexer": "ipython3",
   "version": 3
  },
  "orig_nbformat": 2,
  "kernelspec": {
   "name": "python_defaultSpec_1595420404771",
   "display_name": "Python 3.7.6 64-bit ('base': conda)"
  }
 },
 "nbformat": 4,
 "nbformat_minor": 2,
 "cells": [
  {
   "cell_type": "markdown",
   "metadata": {},
   "source": [
    "# Diccionarios"
   ]
  },
  {
   "cell_type": "code",
   "execution_count": 10,
   "metadata": {},
   "outputs": [],
   "source": [
    "# definir un diccionario básico\n",
    "d = {\n",
    "    'key1':1\n",
    "    ,'key2':2\n",
    "    ,'key3':3\n",
    "}"
   ]
  },
  {
   "cell_type": "code",
   "execution_count": 11,
   "metadata": {},
   "outputs": [
    {
     "output_type": "execute_result",
     "data": {
      "text/plain": "1"
     },
     "metadata": {},
     "execution_count": 11
    }
   ],
   "source": [
    "# accesar los values\n",
    "d['key1']"
   ]
  },
  {
   "cell_type": "code",
   "execution_count": 12,
   "metadata": {
    "tags": []
   },
   "outputs": [
    {
     "output_type": "stream",
     "name": "stdout",
     "text": "{'key1': 1, 'key2': 3, 'key3': 3}\n"
    }
   ],
   "source": [
    "# modificar los values\n",
    "d['key2'] = 3\n",
    "print(d)"
   ]
  },
  {
   "cell_type": "code",
   "execution_count": 13,
   "metadata": {
    "tags": []
   },
   "outputs": [
    {
     "output_type": "stream",
     "name": "stdout",
     "text": "key1\nkey2\nkey3\n"
    }
   ],
   "source": [
    "# iterar sobre los keys de un diccionario\n",
    "for key in d.keys():\n",
    "    print(key)"
   ]
  },
  {
   "cell_type": "code",
   "execution_count": 14,
   "metadata": {
    "tags": []
   },
   "outputs": [
    {
     "output_type": "stream",
     "name": "stdout",
     "text": "1\n3\n3\n"
    }
   ],
   "source": [
    "# iterar sobre los values de un diccionario\n",
    "for value in d.values():\n",
    "    print(value)"
   ]
  },
  {
   "cell_type": "code",
   "execution_count": 15,
   "metadata": {
    "tags": []
   },
   "outputs": [
    {
     "output_type": "stream",
     "name": "stdout",
     "text": "key1 - 1\nkey2 - 3\nkey3 - 3\n"
    }
   ],
   "source": [
    "# iterar sobre los elementos de un diccionario\n",
    "for key, value in d.items():\n",
    "    print(f'{key} - {value}')"
   ]
  },
  {
   "cell_type": "code",
   "execution_count": 16,
   "metadata": {
    "tags": []
   },
   "outputs": [
    {
     "output_type": "stream",
     "name": "stdout",
     "text": "no se puede\n"
    }
   ],
   "source": [
    "# modificar los keys de un diccionarios\n",
    "print('no se puede')"
   ]
  },
  {
   "cell_type": "code",
   "execution_count": 17,
   "metadata": {
    "tags": []
   },
   "outputs": [
    {
     "output_type": "stream",
     "name": "stdout",
     "text": "{'key1': 1, 'key3': 3}\n"
    }
   ],
   "source": [
    "# eliminar key:val pairs de un diccionario\n",
    "del d['key2']\n",
    "print(d)"
   ]
  },
  {
   "cell_type": "code",
   "execution_count": 18,
   "metadata": {
    "tags": []
   },
   "outputs": [
    {
     "output_type": "stream",
     "name": "stdout",
     "text": "{'a': 0, 'b': 1, 'c': 2}\n"
    }
   ],
   "source": [
    "# crear diccionarios utilizando dictionary comprehension\n",
    "keys = ['a','b','c']\n",
    "values = [x for x in range(3)]\n",
    "\n",
    "# creando el dict\n",
    "d = {key:value for key,value in zip(keys, values)}\n",
    "print(d)"
   ]
  },
  {
   "cell_type": "code",
   "execution_count": null,
   "metadata": {},
   "outputs": [],
   "source": [
    "# nested dictionaries\n",
    "keys = ['a1','b1','b2'] \n",
    "\n",
    "for key in d.keys():\n",
    "    d[key] = {key2:value2}"
   ]
  }
 ]
}