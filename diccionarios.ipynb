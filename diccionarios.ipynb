{
 "metadata": {
  "language_info": {
   "codemirror_mode": {
    "name": "ipython",
    "version": 3
   },
   "file_extension": ".py",
   "mimetype": "text/x-python",
   "name": "python",
   "nbconvert_exporter": "python",
   "pygments_lexer": "ipython3",
   "version": 3
  },
  "orig_nbformat": 2,
  "kernelspec": {
   "name": "python_defaultSpec_1595767338403",
   "display_name": "Python 3.7.6 64-bit ('base': conda)"
  }
 },
 "nbformat": 4,
 "nbformat_minor": 2,
 "cells": [
  {
   "cell_type": "markdown",
   "metadata": {},
   "source": [
    "# Diccionarios"
   ]
  },
  {
   "cell_type": "markdown",
   "metadata": {},
   "source": [
    "## Conceptos básicos"
   ]
  },
  {
   "cell_type": "code",
   "execution_count": 1,
   "metadata": {},
   "outputs": [],
   "source": [
    "# definir un diccionario básico\n",
    "d = {\n",
    "    'key1':1\n",
    "    ,'key2':2\n",
    "    ,'key3':3\n",
    "}"
   ]
  },
  {
   "cell_type": "code",
   "execution_count": 2,
   "metadata": {},
   "outputs": [
    {
     "output_type": "execute_result",
     "data": {
      "text/plain": "1"
     },
     "metadata": {},
     "execution_count": 2
    }
   ],
   "source": [
    "# accesar los values\n",
    "d['key1']"
   ]
  },
  {
   "cell_type": "code",
   "execution_count": 3,
   "metadata": {
    "tags": []
   },
   "outputs": [
    {
     "output_type": "stream",
     "name": "stdout",
     "text": "{'key1': 1, 'key2': 3, 'key3': 3}\n"
    }
   ],
   "source": [
    "# modificar los values\n",
    "d['key2'] = 3\n",
    "print(d)"
   ]
  },
  {
   "cell_type": "code",
   "execution_count": 4,
   "metadata": {
    "tags": []
   },
   "outputs": [
    {
     "output_type": "stream",
     "name": "stdout",
     "text": "no se puede\n"
    }
   ],
   "source": [
    "# modificar los keys\n",
    "print('no se puede')"
   ]
  },
  {
   "cell_type": "markdown",
   "metadata": {},
   "source": [
    "## Métodos de diccionarios"
   ]
  },
  {
   "cell_type": "markdown",
   "metadata": {},
   "source": [
    "### iterables"
   ]
  },
  {
   "cell_type": "code",
   "execution_count": 5,
   "metadata": {
    "tags": []
   },
   "outputs": [
    {
     "output_type": "stream",
     "name": "stdout",
     "text": "key1\nkey2\nkey3\n"
    }
   ],
   "source": [
    "# iterar sobre los keys de un diccionario\n",
    "for key in d.keys():\n",
    "    print(key)"
   ]
  },
  {
   "cell_type": "code",
   "execution_count": 6,
   "metadata": {
    "tags": []
   },
   "outputs": [
    {
     "output_type": "stream",
     "name": "stdout",
     "text": "1\n3\n3\n"
    }
   ],
   "source": [
    "# iterar sobre los values de un diccionario\n",
    "for value in d.values():\n",
    "    print(value)"
   ]
  },
  {
   "cell_type": "code",
   "execution_count": 7,
   "metadata": {
    "tags": []
   },
   "outputs": [
    {
     "output_type": "stream",
     "name": "stdout",
     "text": "key1 - 1\nkey2 - 3\nkey3 - 3\n"
    }
   ],
   "source": [
    "# iterar sobre los elementos de un diccionario\n",
    "for key, value in d.items():\n",
    "    print(f'{key} - {value}')"
   ]
  },
  {
   "cell_type": "markdown",
   "metadata": {},
   "source": [
    "### Modificando el objeto"
   ]
  },
  {
   "cell_type": "code",
   "execution_count": 8,
   "metadata": {
    "tags": []
   },
   "outputs": [
    {
     "output_type": "stream",
     "name": "stdout",
     "text": "{'key1': 1, 'key2': 3}\n"
    }
   ],
   "source": [
    "# eliminar key:val pairs de un diccionario utilizando pop\n",
    "d.pop('key3')\n",
    "print(d)"
   ]
  },
  {
   "cell_type": "code",
   "execution_count": 9,
   "metadata": {
    "tags": []
   },
   "outputs": [
    {
     "output_type": "stream",
     "name": "stdout",
     "text": "{}\n"
    }
   ],
   "source": [
    "# limpiar todos los keys de un diccionario\n",
    "d2 = {'a':1,'b':2,'c':3}\n",
    "d2.clear()\n",
    "print(d2)"
   ]
  },
  {
   "cell_type": "code",
   "execution_count": 10,
   "metadata": {
    "tags": []
   },
   "outputs": [
    {
     "output_type": "stream",
     "name": "stdout",
     "text": "d2 --> {'a': 1, 'b': 2, 'c': 3}\nd3 antes de copiar --> {}\nd3 despues de copiar --> {'a': 1, 'b': 2, 'c': 3}\n"
    }
   ],
   "source": [
    "# copiando un diccionario sin usar la libreria copy\n",
    "d2 = {'a':1,'b':2,'c':3}\n",
    "d3 = {}\n",
    "print(f'd2 --> {d2}')\n",
    "print(f'd3 antes de copiar --> {d3}')\n",
    "d3 = d2.copy()\n",
    "print(f'd3 despues de copiar --> {d3}')"
   ]
  },
  {
   "cell_type": "markdown",
   "metadata": {},
   "source": [
    "### el keyword del en python y su efecto en diccionarios"
   ]
  },
  {
   "cell_type": "code",
   "execution_count": 11,
   "metadata": {
    "tags": []
   },
   "outputs": [
    {
     "output_type": "stream",
     "name": "stdout",
     "text": "{'key1': 1}\n"
    }
   ],
   "source": [
    "# eliminar key:val pairs de un diccionario utilizando del\n",
    "del d['key2']\n",
    "print(d)"
   ]
  },
  {
   "cell_type": "code",
   "execution_count": 12,
   "metadata": {},
   "outputs": [
    {
     "output_type": "error",
     "ename": "NameError",
     "evalue": "name 'd' is not defined",
     "traceback": [
      "\u001b[0;31m---------------------------------------------------------------------------\u001b[0m",
      "\u001b[0;31mNameError\u001b[0m                                 Traceback (most recent call last)",
      "\u001b[0;32m<ipython-input-12-283d4eddedb7>\u001b[0m in \u001b[0;36m<module>\u001b[0;34m\u001b[0m\n\u001b[1;32m      1\u001b[0m \u001b[0;31m# Cuidado con del, porque del elimina cualquier variable en la consola de python\u001b[0m\u001b[0;34m\u001b[0m\u001b[0;34m\u001b[0m\u001b[0;34m\u001b[0m\u001b[0m\n\u001b[1;32m      2\u001b[0m \u001b[0;32mdel\u001b[0m \u001b[0md\u001b[0m\u001b[0;34m\u001b[0m\u001b[0;34m\u001b[0m\u001b[0m\n\u001b[0;32m----> 3\u001b[0;31m \u001b[0mprint\u001b[0m\u001b[0;34m(\u001b[0m\u001b[0md\u001b[0m\u001b[0;34m)\u001b[0m\u001b[0;34m\u001b[0m\u001b[0;34m\u001b[0m\u001b[0m\n\u001b[0m",
      "\u001b[0;31mNameError\u001b[0m: name 'd' is not defined"
     ]
    }
   ],
   "source": [
    "# Cuidado con del, porque del elimina cualquier variable en la consola de python\n",
    "del d\n",
    "print(d)"
   ]
  },
  {
   "cell_type": "markdown",
   "metadata": {},
   "source": [
    "## Dictionary comprehension"
   ]
  },
  {
   "cell_type": "code",
   "execution_count": 13,
   "metadata": {
    "tags": []
   },
   "outputs": [
    {
     "output_type": "stream",
     "name": "stdout",
     "text": "{'a': 0, 'b': 1, 'c': 2}\n"
    }
   ],
   "source": [
    "# crear diccionarios utilizando dictionary comprehension\n",
    "keys = ['a','b','c']\n",
    "values = [x for x in range(3)]\n",
    "\n",
    "# creando el dict\n",
    "d = {key:value for key,value in zip(keys, values)}\n",
    "print(d)"
   ]
  },
  {
   "cell_type": "markdown",
   "metadata": {},
   "source": [
    "## Nested dictionaries"
   ]
  },
  {
   "cell_type": "code",
   "execution_count": 14,
   "metadata": {
    "tags": []
   },
   "outputs": [
    {
     "output_type": "stream",
     "name": "stdout",
     "text": "{'a': {'a1': 4, 'b1': 5, 'b2': 6}, 'b': {'a1': 4, 'b1': 5, 'b2': 6}, 'c': {'a1': 4, 'b1': 5, 'b2': 6}}\n"
    }
   ],
   "source": [
    "# nested dictionaries\n",
    "keys = ['a1','b1','b2'] \n",
    "values = [x for x in range(4,7)]\n",
    "for key in d.keys():\n",
    "    d[key] = {key2:value2 for key2,value2 in zip(keys, values)}\n",
    "\n",
    "print(d)"
   ]
  },
  {
   "cell_type": "code",
   "execution_count": 15,
   "metadata": {},
   "outputs": [
    {
     "output_type": "execute_result",
     "data": {
      "text/plain": "5"
     },
     "metadata": {},
     "execution_count": 15
    }
   ],
   "source": [
    "# accesar nested dicts\n",
    "d['a']['b1']"
   ]
  },
  {
   "cell_type": "markdown",
   "metadata": {},
   "source": [
    "### breve referencia a pandas"
   ]
  },
  {
   "cell_type": "markdown",
   "metadata": {},
   "source": [
    "#### En pandas, la estructura de datos de DataFrame es (de una manera básica) de la siguiente forma:"
   ]
  },
  {
   "cell_type": "code",
   "execution_count": 16,
   "metadata": {},
   "outputs": [],
   "source": [
    "basically_a_dataframe = {\n",
    "    'columna1': {\n",
    "        0:'valor0',\n",
    "        1:'valor1',\n",
    "        2:'valor2',\n",
    "        3:'valor3'\n",
    "    },\n",
    "    'columna2': {\n",
    "        0:'valor0',\n",
    "        1:'valor1',\n",
    "        2:'valor2',\n",
    "        3:'valor3'\n",
    "    },\n",
    "    'columna3': {\n",
    "        0:'valor0',\n",
    "        1:'valor1',\n",
    "        2:'valor2',\n",
    "        3:'valor3'\n",
    "    },\n",
    "}"
   ]
  },
  {
   "cell_type": "markdown",
   "metadata": {},
   "source": [
    "#### ¿O sea que un dataframe es un json de dos niveles?"
   ]
  },
  {
   "cell_type": "markdown",
   "metadata": {},
   "source": [
    "### Mas o menos sí, es su propio objeto, pero podemos convertirlo desde diccionario de la siguiente manera"
   ]
  },
  {
   "cell_type": "code",
   "execution_count": 17,
   "metadata": {
    "tags": []
   },
   "outputs": [
    {
     "output_type": "execute_result",
     "data": {
      "text/plain": "  columna1 columna2 columna3\n0   valor0   valor0   valor0\n1   valor1   valor1   valor1\n2   valor2   valor2   valor2\n3   valor3   valor3   valor3",
      "text/html": "<div>\n<style scoped>\n    .dataframe tbody tr th:only-of-type {\n        vertical-align: middle;\n    }\n\n    .dataframe tbody tr th {\n        vertical-align: top;\n    }\n\n    .dataframe thead th {\n        text-align: right;\n    }\n</style>\n<table border=\"1\" class=\"dataframe\">\n  <thead>\n    <tr style=\"text-align: right;\">\n      <th></th>\n      <th>columna1</th>\n      <th>columna2</th>\n      <th>columna3</th>\n    </tr>\n  </thead>\n  <tbody>\n    <tr>\n      <th>0</th>\n      <td>valor0</td>\n      <td>valor0</td>\n      <td>valor0</td>\n    </tr>\n    <tr>\n      <th>1</th>\n      <td>valor1</td>\n      <td>valor1</td>\n      <td>valor1</td>\n    </tr>\n    <tr>\n      <th>2</th>\n      <td>valor2</td>\n      <td>valor2</td>\n      <td>valor2</td>\n    </tr>\n    <tr>\n      <th>3</th>\n      <td>valor3</td>\n      <td>valor3</td>\n      <td>valor3</td>\n    </tr>\n  </tbody>\n</table>\n</div>"
     },
     "metadata": {},
     "execution_count": 17
    }
   ],
   "source": [
    "# De hecho, podemos comprobar que este objeto que creamos se convierte directamente a un dataframe sin muchos adornos\n",
    "import pandas as pd\n",
    "pd.DataFrame(basically_a_dataframe)"
   ]
  },
  {
   "cell_type": "markdown",
   "metadata": {},
   "source": [
    "## Funciones relacionadas"
   ]
  },
  {
   "cell_type": "code",
   "execution_count": 18,
   "metadata": {
    "tags": []
   },
   "outputs": [
    {
     "output_type": "stream",
     "name": "stdout",
     "text": "{'a1': 4, 'b1': 5, 'b2': 6}\n"
    }
   ],
   "source": [
    "# la función \"dict()\"\n",
    "key_val_tuples = ((a,b) for a,b in zip(keys,values))\n",
    "print(dict(key_val_tuples))"
   ]
  },
  {
   "cell_type": "code",
   "execution_count": null,
   "metadata": {},
   "outputs": [],
   "source": []
  },
  {
   "cell_type": "code",
   "execution_count": null,
   "metadata": {},
   "outputs": [],
   "source": []
  }
 ]
}